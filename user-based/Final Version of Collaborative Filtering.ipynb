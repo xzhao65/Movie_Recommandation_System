{
 "cells": [
  {
   "cell_type": "code",
   "execution_count": 1,
   "metadata": {
    "collapsed": true
   },
   "outputs": [],
   "source": [
    "import numpy as np\n",
    "import pandas as pd\n",
    "from sklearn.metrics.pairwise import pairwise_distances\n",
    "from sklearn.metrics import mean_squared_error\n",
    "from math import sqrt\n",
    "import scipy.sparse as sp\n",
    "from scipy.sparse.linalg import svds\n"
   ]
  },
  {
   "cell_type": "markdown",
   "metadata": {},
   "source": [
    "## 1. Loading the data set"
   ]
  },
  {
   "cell_type": "code",
   "execution_count": 2,
   "metadata": {
    "collapsed": true
   },
   "outputs": [],
   "source": [
    "header = ['user_id', 'item_id', 'rating', 'timestamp']\n",
    "df = pd.read_csv('/Users/zhaoxiangyu/Desktop/ml-100k/u.data', sep='\\t', names=header)"
   ]
  },
  {
   "cell_type": "code",
   "execution_count": 3,
   "metadata": {},
   "outputs": [
    {
     "name": "stdout",
     "output_type": "stream",
     "text": [
      "Number of users = 943 | Number of movies = 1682\n"
     ]
    }
   ],
   "source": [
    "n_users = df.user_id.unique().shape[0]\n",
    "n_items = df.item_id.unique().shape[0]\n",
    "print 'Number of users = ' + str(n_users) + ' | Number of movies = ' + str(n_items)"
   ]
  },
  {
   "cell_type": "markdown",
   "metadata": {},
   "source": [
    "##  2.Split the data into training and testing"
   ]
  },
  {
   "cell_type": "code",
   "execution_count": 4,
   "metadata": {},
   "outputs": [
    {
     "name": "stderr",
     "output_type": "stream",
     "text": [
      "/Users/zhaoxiangyu/anaconda2/lib/python2.7/site-packages/sklearn/cross_validation.py:41: DeprecationWarning: This module was deprecated in version 0.18 in favor of the model_selection module into which all the refactored classes and functions are moved. Also note that the interface of the new CV iterators are different from that of this module. This module will be removed in 0.20.\n",
      "  \"This module will be removed in 0.20.\", DeprecationWarning)\n"
     ]
    }
   ],
   "source": [
    "from sklearn import cross_validation as cv\n",
    "train_data, test_data = cv.train_test_split(df, test_size=0.20)"
   ]
  },
  {
   "cell_type": "markdown",
   "metadata": {},
   "source": [
    "## 3.Fiiling in the matrix from traing and testing data"
   ]
  },
  {
   "cell_type": "code",
   "execution_count": 5,
   "metadata": {
    "collapsed": true
   },
   "outputs": [],
   "source": [
    "train_data_matrix = np.zeros((n_users, n_items))\n",
    "for line in train_data.itertuples():\n",
    "    train_data_matrix[line[1]-1, line[2]-1] = line[3]\n",
    "\n",
    "test_data_matrix = np.zeros((n_users, n_items))\n",
    "for line in test_data.itertuples():\n",
    "    test_data_matrix[line[1]-1, line[2]-1] = line[3]"
   ]
  },
  {
   "cell_type": "markdown",
   "metadata": {},
   "source": [
    "## 4.Running the model"
   ]
  },
  {
   "cell_type": "code",
   "execution_count": 6,
   "metadata": {
    "collapsed": true
   },
   "outputs": [],
   "source": [
    "#### Calculate and get the cosine similarity between users.\n",
    "user_similarity = pairwise_distances(train_data_matrix, metric='cosine')"
   ]
  },
  {
   "cell_type": "code",
   "execution_count": 7,
   "metadata": {
    "collapsed": true
   },
   "outputs": [],
   "source": [
    "#### Function to calculate mean of row data except \"0\". \n",
    "def non_zero_mean(x):\n",
    "    return x[x != 0].mean()\n",
    "\n",
    "#### Function to predict the target user's rating.\n",
    "def predict(ratings, similarity, type):\n",
    "    if type == 'user':\n",
    "        mean_user_rating = np.apply_along_axis(non_zero_mean, axis = 1, arr = ratings)\n",
    "       #### ratings_diff is the normalized matrix data\n",
    "        ratings_diff = (ratings - mean_user_rating[:, np.newaxis])\n",
    "        ratings_diff = np.where(ratings_diff==-mean_user_rating[:, np.newaxis],0,ratings_diff)\n",
    "        pred = mean_user_rating[:, np.newaxis] + similarity.dot(ratings_diff) / np.array([np.abs(similarity).sum(axis=1)]).T\n",
    "    elif type == 'item':\n",
    "        pred = ratings.dot(similarity) / np.array([np.abs(similarity).sum(axis=1)])\n",
    "    return pred"
   ]
  },
  {
   "cell_type": "code",
   "execution_count": 8,
   "metadata": {
    "collapsed": true
   },
   "outputs": [],
   "source": [
    "pred=predict(train_data_matrix, user_similarity, type='user')"
   ]
  },
  {
   "cell_type": "markdown",
   "metadata": {},
   "source": [
    "#### This is the prediction result matrix from training matrix and similarity matrix."
   ]
  },
  {
   "cell_type": "code",
   "execution_count": 9,
   "metadata": {},
   "outputs": [
    {
     "data": {
      "text/plain": [
       "array([[ 3.71437318,  3.59241333,  3.58896429, ...,  3.61538462,\n",
       "         3.61538462,  3.61511958],\n",
       "       [ 3.8671127 ,  3.72609137,  3.72583341, ...,  3.75510204,\n",
       "         3.75510204,  3.75465709],\n",
       "       [ 2.89491306,  2.75171253,  2.74908764, ...,  2.7804878 ,\n",
       "         2.7804878 ,  2.78005192],\n",
       "       ..., \n",
       "       [ 4.16456666,  4.03897108,  4.03774203, ...,  4.06666667,\n",
       "         4.06666667,  4.06625615],\n",
       "       [ 4.44581943,  4.3118822 ,  4.30750243, ...,  4.33823529,\n",
       "         4.33823529,  4.33783725],\n",
       "       [ 3.54444169,  3.42147862,  3.41882179, ...,  3.44680851,\n",
       "         3.44680851,  3.44651944]])"
      ]
     },
     "execution_count": 9,
     "metadata": {},
     "output_type": "execute_result"
    }
   ],
   "source": [
    "pred"
   ]
  },
  {
   "cell_type": "markdown",
   "metadata": {},
   "source": [
    "## 5.Testing the model and calculate the metrics."
   ]
  },
  {
   "cell_type": "code",
   "execution_count": 10,
   "metadata": {},
   "outputs": [
    {
     "data": {
      "text/plain": [
       "array([[ 3.71437318,  0.        ,  0.        , ...,  0.        ,\n",
       "         0.        ,  0.        ],\n",
       "       [ 0.        ,  0.        ,  0.        , ...,  0.        ,\n",
       "         0.        ,  0.        ],\n",
       "       [ 0.        ,  0.        ,  0.        , ...,  0.        ,\n",
       "         0.        ,  0.        ],\n",
       "       ..., \n",
       "       [ 0.        ,  0.        ,  0.        , ...,  0.        ,\n",
       "         0.        ,  0.        ],\n",
       "       [ 0.        ,  0.        ,  0.        , ...,  0.        ,\n",
       "         0.        ,  0.        ],\n",
       "       [ 0.        ,  0.        ,  0.        , ...,  0.        ,\n",
       "         0.        ,  0.        ]])"
      ]
     },
     "execution_count": 10,
     "metadata": {},
     "output_type": "execute_result"
    }
   ],
   "source": [
    "test=np.where(test_data_matrix == 0, 0, pred)\n",
    "test"
   ]
  },
  {
   "cell_type": "code",
   "execution_count": 11,
   "metadata": {
    "collapsed": true
   },
   "outputs": [],
   "source": [
    "df2=pd.DataFrame(test)"
   ]
  },
  {
   "cell_type": "code",
   "execution_count": 12,
   "metadata": {
    "collapsed": true
   },
   "outputs": [],
   "source": [
    "#### Function to filling the predition results in the original table\n",
    "#### from prediciton matrix\n",
    "def add_pred(x):\n",
    "    return df2.iloc[int(x[0]-1),int(x[1]-1)]\n",
    "pred_col = df.apply(add_pred, axis = 1)"
   ]
  },
  {
   "cell_type": "markdown",
   "metadata": {},
   "source": [
    "## 6.Recommend top 8 movies to users according to prediciton ratings."
   ]
  },
  {
   "cell_type": "code",
   "execution_count": 13,
   "metadata": {},
   "outputs": [
    {
     "data": {
      "text/plain": [
       "1230"
      ]
     },
     "execution_count": 13,
     "metadata": {},
     "output_type": "execute_result"
    }
   ],
   "source": [
    "df[\"pred\"] = pred_col\n",
    "df3=df[df['pred']>=4]\n",
    "REC=df3.sort_values('pred',ascending=False).groupby('user_id').head(8)\n",
    "(REC.sort_values('user_id')['rating']>=4).sum()"
   ]
  },
  {
   "cell_type": "markdown",
   "metadata": {},
   "source": [
    "#### Return the Precision of mdel with recommending top 8 movies"
   ]
  },
  {
   "cell_type": "code",
   "execution_count": 14,
   "metadata": {},
   "outputs": [
    {
     "data": {
      "text/plain": [
       "0.83844580777096112"
      ]
     },
     "execution_count": 14,
     "metadata": {},
     "output_type": "execute_result"
    }
   ],
   "source": [
    "(REC.sort_values('user_id')['rating']>=4).sum()*1.0/len(REC.index)"
   ]
  },
  {
   "cell_type": "markdown",
   "metadata": {},
   "source": [
    "#### Return the table to compare prediction ratings and true ratings"
   ]
  },
  {
   "cell_type": "code",
   "execution_count": 15,
   "metadata": {},
   "outputs": [
    {
     "data": {
      "text/html": [
       "<div>\n",
       "<style>\n",
       "    .dataframe thead tr:only-child th {\n",
       "        text-align: right;\n",
       "    }\n",
       "\n",
       "    .dataframe thead th {\n",
       "        text-align: left;\n",
       "    }\n",
       "\n",
       "    .dataframe tbody tr th {\n",
       "        vertical-align: top;\n",
       "    }\n",
       "</style>\n",
       "<table border=\"1\" class=\"dataframe\">\n",
       "  <thead>\n",
       "    <tr style=\"text-align: right;\">\n",
       "      <th></th>\n",
       "      <th>user_id</th>\n",
       "      <th>item_id</th>\n",
       "      <th>rating</th>\n",
       "      <th>timestamp</th>\n",
       "      <th>pred</th>\n",
       "    </tr>\n",
       "  </thead>\n",
       "  <tbody>\n",
       "    <tr>\n",
       "      <th>16305</th>\n",
       "      <td>4</td>\n",
       "      <td>50</td>\n",
       "      <td>5</td>\n",
       "      <td>892003526</td>\n",
       "      <td>4.576341</td>\n",
       "    </tr>\n",
       "    <tr>\n",
       "      <th>18930</th>\n",
       "      <td>4</td>\n",
       "      <td>354</td>\n",
       "      <td>5</td>\n",
       "      <td>892002353</td>\n",
       "      <td>4.195353</td>\n",
       "    </tr>\n",
       "    <tr>\n",
       "      <th>12151</th>\n",
       "      <td>4</td>\n",
       "      <td>294</td>\n",
       "      <td>5</td>\n",
       "      <td>892004409</td>\n",
       "      <td>4.049674</td>\n",
       "    </tr>\n",
       "    <tr>\n",
       "      <th>71055</th>\n",
       "      <td>4</td>\n",
       "      <td>362</td>\n",
       "      <td>5</td>\n",
       "      <td>892002352</td>\n",
       "      <td>4.191094</td>\n",
       "    </tr>\n",
       "    <tr>\n",
       "      <th>72875</th>\n",
       "      <td>7</td>\n",
       "      <td>427</td>\n",
       "      <td>5</td>\n",
       "      <td>891352220</td>\n",
       "      <td>4.075145</td>\n",
       "    </tr>\n",
       "    <tr>\n",
       "      <th>19720</th>\n",
       "      <td>7</td>\n",
       "      <td>515</td>\n",
       "      <td>3</td>\n",
       "      <td>891350757</td>\n",
       "      <td>4.074779</td>\n",
       "    </tr>\n",
       "    <tr>\n",
       "      <th>6324</th>\n",
       "      <td>7</td>\n",
       "      <td>168</td>\n",
       "      <td>5</td>\n",
       "      <td>891351509</td>\n",
       "      <td>4.083443</td>\n",
       "    </tr>\n",
       "    <tr>\n",
       "      <th>18292</th>\n",
       "      <td>7</td>\n",
       "      <td>480</td>\n",
       "      <td>4</td>\n",
       "      <td>891352093</td>\n",
       "      <td>4.050627</td>\n",
       "    </tr>\n",
       "    <tr>\n",
       "      <th>10422</th>\n",
       "      <td>7</td>\n",
       "      <td>210</td>\n",
       "      <td>4</td>\n",
       "      <td>891352904</td>\n",
       "      <td>4.060145</td>\n",
       "    </tr>\n",
       "    <tr>\n",
       "      <th>32677</th>\n",
       "      <td>7</td>\n",
       "      <td>64</td>\n",
       "      <td>5</td>\n",
       "      <td>891350756</td>\n",
       "      <td>4.147364</td>\n",
       "    </tr>\n",
       "    <tr>\n",
       "      <th>6336</th>\n",
       "      <td>7</td>\n",
       "      <td>269</td>\n",
       "      <td>3</td>\n",
       "      <td>891349991</td>\n",
       "      <td>4.098292</td>\n",
       "    </tr>\n",
       "    <tr>\n",
       "      <th>27649</th>\n",
       "      <td>7</td>\n",
       "      <td>100</td>\n",
       "      <td>5</td>\n",
       "      <td>891351082</td>\n",
       "      <td>4.196905</td>\n",
       "    </tr>\n",
       "    <tr>\n",
       "      <th>3955</th>\n",
       "      <td>9</td>\n",
       "      <td>691</td>\n",
       "      <td>5</td>\n",
       "      <td>886960055</td>\n",
       "      <td>4.252112</td>\n",
       "    </tr>\n",
       "    <tr>\n",
       "      <th>29557</th>\n",
       "      <td>9</td>\n",
       "      <td>294</td>\n",
       "      <td>4</td>\n",
       "      <td>886959453</td>\n",
       "      <td>4.103512</td>\n",
       "    </tr>\n",
       "    <tr>\n",
       "      <th>5545</th>\n",
       "      <td>10</td>\n",
       "      <td>22</td>\n",
       "      <td>5</td>\n",
       "      <td>877888812</td>\n",
       "      <td>4.316120</td>\n",
       "    </tr>\n",
       "    <tr>\n",
       "      <th>15952</th>\n",
       "      <td>10</td>\n",
       "      <td>183</td>\n",
       "      <td>5</td>\n",
       "      <td>877893020</td>\n",
       "      <td>4.269489</td>\n",
       "    </tr>\n",
       "    <tr>\n",
       "      <th>4183</th>\n",
       "      <td>10</td>\n",
       "      <td>124</td>\n",
       "      <td>5</td>\n",
       "      <td>877888545</td>\n",
       "      <td>4.246839</td>\n",
       "    </tr>\n",
       "    <tr>\n",
       "      <th>7383</th>\n",
       "      <td>10</td>\n",
       "      <td>651</td>\n",
       "      <td>4</td>\n",
       "      <td>877888812</td>\n",
       "      <td>4.245972</td>\n",
       "    </tr>\n",
       "    <tr>\n",
       "      <th>19465</th>\n",
       "      <td>10</td>\n",
       "      <td>144</td>\n",
       "      <td>4</td>\n",
       "      <td>877892110</td>\n",
       "      <td>4.241755</td>\n",
       "    </tr>\n",
       "    <tr>\n",
       "      <th>53618</th>\n",
       "      <td>10</td>\n",
       "      <td>185</td>\n",
       "      <td>5</td>\n",
       "      <td>877888876</td>\n",
       "      <td>4.253397</td>\n",
       "    </tr>\n",
       "    <tr>\n",
       "      <th>14324</th>\n",
       "      <td>10</td>\n",
       "      <td>269</td>\n",
       "      <td>4</td>\n",
       "      <td>877886162</td>\n",
       "      <td>4.290932</td>\n",
       "    </tr>\n",
       "    <tr>\n",
       "      <th>30061</th>\n",
       "      <td>10</td>\n",
       "      <td>174</td>\n",
       "      <td>4</td>\n",
       "      <td>877886661</td>\n",
       "      <td>4.384775</td>\n",
       "    </tr>\n",
       "    <tr>\n",
       "      <th>7852</th>\n",
       "      <td>12</td>\n",
       "      <td>191</td>\n",
       "      <td>5</td>\n",
       "      <td>879960801</td>\n",
       "      <td>4.446818</td>\n",
       "    </tr>\n",
       "    <tr>\n",
       "      <th>90027</th>\n",
       "      <td>12</td>\n",
       "      <td>69</td>\n",
       "      <td>5</td>\n",
       "      <td>879958902</td>\n",
       "      <td>4.379511</td>\n",
       "    </tr>\n",
       "    <tr>\n",
       "      <th>7699</th>\n",
       "      <td>12</td>\n",
       "      <td>15</td>\n",
       "      <td>5</td>\n",
       "      <td>879959670</td>\n",
       "      <td>4.378904</td>\n",
       "    </tr>\n",
       "    <tr>\n",
       "      <th>49782</th>\n",
       "      <td>12</td>\n",
       "      <td>98</td>\n",
       "      <td>5</td>\n",
       "      <td>879959068</td>\n",
       "      <td>4.544234</td>\n",
       "    </tr>\n",
       "    <tr>\n",
       "      <th>19337</th>\n",
       "      <td>12</td>\n",
       "      <td>318</td>\n",
       "      <td>5</td>\n",
       "      <td>879960826</td>\n",
       "      <td>4.522517</td>\n",
       "    </tr>\n",
       "    <tr>\n",
       "      <th>8628</th>\n",
       "      <td>12</td>\n",
       "      <td>754</td>\n",
       "      <td>4</td>\n",
       "      <td>879958810</td>\n",
       "      <td>4.323311</td>\n",
       "    </tr>\n",
       "    <tr>\n",
       "      <th>3311</th>\n",
       "      <td>14</td>\n",
       "      <td>357</td>\n",
       "      <td>2</td>\n",
       "      <td>890881294</td>\n",
       "      <td>4.163847</td>\n",
       "    </tr>\n",
       "    <tr>\n",
       "      <th>19273</th>\n",
       "      <td>14</td>\n",
       "      <td>285</td>\n",
       "      <td>5</td>\n",
       "      <td>879119118</td>\n",
       "      <td>4.110472</td>\n",
       "    </tr>\n",
       "    <tr>\n",
       "      <th>...</th>\n",
       "      <td>...</td>\n",
       "      <td>...</td>\n",
       "      <td>...</td>\n",
       "      <td>...</td>\n",
       "      <td>...</td>\n",
       "    </tr>\n",
       "    <tr>\n",
       "      <th>75373</th>\n",
       "      <td>932</td>\n",
       "      <td>183</td>\n",
       "      <td>4</td>\n",
       "      <td>891249877</td>\n",
       "      <td>4.009478</td>\n",
       "    </tr>\n",
       "    <tr>\n",
       "      <th>70420</th>\n",
       "      <td>932</td>\n",
       "      <td>483</td>\n",
       "      <td>5</td>\n",
       "      <td>891249962</td>\n",
       "      <td>4.065215</td>\n",
       "    </tr>\n",
       "    <tr>\n",
       "      <th>88376</th>\n",
       "      <td>932</td>\n",
       "      <td>100</td>\n",
       "      <td>5</td>\n",
       "      <td>891249586</td>\n",
       "      <td>4.138974</td>\n",
       "    </tr>\n",
       "    <tr>\n",
       "      <th>91532</th>\n",
       "      <td>935</td>\n",
       "      <td>300</td>\n",
       "      <td>4</td>\n",
       "      <td>884471955</td>\n",
       "      <td>4.109567</td>\n",
       "    </tr>\n",
       "    <tr>\n",
       "      <th>99907</th>\n",
       "      <td>935</td>\n",
       "      <td>117</td>\n",
       "      <td>4</td>\n",
       "      <td>884472229</td>\n",
       "      <td>4.107862</td>\n",
       "    </tr>\n",
       "    <tr>\n",
       "      <th>96617</th>\n",
       "      <td>935</td>\n",
       "      <td>620</td>\n",
       "      <td>2</td>\n",
       "      <td>884472627</td>\n",
       "      <td>4.050791</td>\n",
       "    </tr>\n",
       "    <tr>\n",
       "      <th>91185</th>\n",
       "      <td>935</td>\n",
       "      <td>9</td>\n",
       "      <td>1</td>\n",
       "      <td>884472352</td>\n",
       "      <td>4.141318</td>\n",
       "    </tr>\n",
       "    <tr>\n",
       "      <th>92729</th>\n",
       "      <td>935</td>\n",
       "      <td>255</td>\n",
       "      <td>4</td>\n",
       "      <td>884472247</td>\n",
       "      <td>4.040541</td>\n",
       "    </tr>\n",
       "    <tr>\n",
       "      <th>73371</th>\n",
       "      <td>936</td>\n",
       "      <td>181</td>\n",
       "      <td>4</td>\n",
       "      <td>886832596</td>\n",
       "      <td>4.005870</td>\n",
       "    </tr>\n",
       "    <tr>\n",
       "      <th>86438</th>\n",
       "      <td>939</td>\n",
       "      <td>285</td>\n",
       "      <td>5</td>\n",
       "      <td>880261184</td>\n",
       "      <td>4.385744</td>\n",
       "    </tr>\n",
       "    <tr>\n",
       "      <th>92342</th>\n",
       "      <td>939</td>\n",
       "      <td>257</td>\n",
       "      <td>5</td>\n",
       "      <td>880260805</td>\n",
       "      <td>4.339342</td>\n",
       "    </tr>\n",
       "    <tr>\n",
       "      <th>90881</th>\n",
       "      <td>939</td>\n",
       "      <td>591</td>\n",
       "      <td>5</td>\n",
       "      <td>880260994</td>\n",
       "      <td>4.306358</td>\n",
       "    </tr>\n",
       "    <tr>\n",
       "      <th>80434</th>\n",
       "      <td>939</td>\n",
       "      <td>1051</td>\n",
       "      <td>5</td>\n",
       "      <td>880262090</td>\n",
       "      <td>4.286559</td>\n",
       "    </tr>\n",
       "    <tr>\n",
       "      <th>88997</th>\n",
       "      <td>939</td>\n",
       "      <td>283</td>\n",
       "      <td>5</td>\n",
       "      <td>880261291</td>\n",
       "      <td>4.314236</td>\n",
       "    </tr>\n",
       "    <tr>\n",
       "      <th>85347</th>\n",
       "      <td>939</td>\n",
       "      <td>255</td>\n",
       "      <td>5</td>\n",
       "      <td>880261094</td>\n",
       "      <td>4.274258</td>\n",
       "    </tr>\n",
       "    <tr>\n",
       "      <th>78091</th>\n",
       "      <td>939</td>\n",
       "      <td>818</td>\n",
       "      <td>3</td>\n",
       "      <td>880262057</td>\n",
       "      <td>4.285753</td>\n",
       "    </tr>\n",
       "    <tr>\n",
       "      <th>69227</th>\n",
       "      <td>939</td>\n",
       "      <td>258</td>\n",
       "      <td>4</td>\n",
       "      <td>880260692</td>\n",
       "      <td>4.410398</td>\n",
       "    </tr>\n",
       "    <tr>\n",
       "      <th>92090</th>\n",
       "      <td>941</td>\n",
       "      <td>300</td>\n",
       "      <td>4</td>\n",
       "      <td>875048495</td>\n",
       "      <td>4.118166</td>\n",
       "    </tr>\n",
       "    <tr>\n",
       "      <th>80319</th>\n",
       "      <td>941</td>\n",
       "      <td>475</td>\n",
       "      <td>4</td>\n",
       "      <td>875049038</td>\n",
       "      <td>4.139858</td>\n",
       "    </tr>\n",
       "    <tr>\n",
       "      <th>69939</th>\n",
       "      <td>941</td>\n",
       "      <td>124</td>\n",
       "      <td>5</td>\n",
       "      <td>875048996</td>\n",
       "      <td>4.146315</td>\n",
       "    </tr>\n",
       "    <tr>\n",
       "      <th>83577</th>\n",
       "      <td>941</td>\n",
       "      <td>257</td>\n",
       "      <td>4</td>\n",
       "      <td>875048952</td>\n",
       "      <td>4.107352</td>\n",
       "    </tr>\n",
       "    <tr>\n",
       "      <th>93680</th>\n",
       "      <td>941</td>\n",
       "      <td>919</td>\n",
       "      <td>5</td>\n",
       "      <td>875048887</td>\n",
       "      <td>4.087700</td>\n",
       "    </tr>\n",
       "    <tr>\n",
       "      <th>74434</th>\n",
       "      <td>942</td>\n",
       "      <td>878</td>\n",
       "      <td>4</td>\n",
       "      <td>891282702</td>\n",
       "      <td>4.311478</td>\n",
       "    </tr>\n",
       "    <tr>\n",
       "      <th>96209</th>\n",
       "      <td>942</td>\n",
       "      <td>124</td>\n",
       "      <td>4</td>\n",
       "      <td>891283068</td>\n",
       "      <td>4.416674</td>\n",
       "    </tr>\n",
       "    <tr>\n",
       "      <th>73640</th>\n",
       "      <td>942</td>\n",
       "      <td>500</td>\n",
       "      <td>5</td>\n",
       "      <td>891282816</td>\n",
       "      <td>4.343678</td>\n",
       "    </tr>\n",
       "    <tr>\n",
       "      <th>68192</th>\n",
       "      <td>942</td>\n",
       "      <td>487</td>\n",
       "      <td>4</td>\n",
       "      <td>891282985</td>\n",
       "      <td>4.356795</td>\n",
       "    </tr>\n",
       "    <tr>\n",
       "      <th>67222</th>\n",
       "      <td>942</td>\n",
       "      <td>604</td>\n",
       "      <td>4</td>\n",
       "      <td>891283139</td>\n",
       "      <td>4.357055</td>\n",
       "    </tr>\n",
       "    <tr>\n",
       "      <th>67031</th>\n",
       "      <td>942</td>\n",
       "      <td>117</td>\n",
       "      <td>4</td>\n",
       "      <td>891282816</td>\n",
       "      <td>4.398540</td>\n",
       "    </tr>\n",
       "    <tr>\n",
       "      <th>74960</th>\n",
       "      <td>942</td>\n",
       "      <td>216</td>\n",
       "      <td>4</td>\n",
       "      <td>891282963</td>\n",
       "      <td>4.406725</td>\n",
       "    </tr>\n",
       "    <tr>\n",
       "      <th>70447</th>\n",
       "      <td>942</td>\n",
       "      <td>511</td>\n",
       "      <td>4</td>\n",
       "      <td>891282931</td>\n",
       "      <td>4.418824</td>\n",
       "    </tr>\n",
       "  </tbody>\n",
       "</table>\n",
       "<p>1467 rows × 5 columns</p>\n",
       "</div>"
      ],
      "text/plain": [
       "       user_id  item_id  rating  timestamp      pred\n",
       "16305        4       50       5  892003526  4.576341\n",
       "18930        4      354       5  892002353  4.195353\n",
       "12151        4      294       5  892004409  4.049674\n",
       "71055        4      362       5  892002352  4.191094\n",
       "72875        7      427       5  891352220  4.075145\n",
       "19720        7      515       3  891350757  4.074779\n",
       "6324         7      168       5  891351509  4.083443\n",
       "18292        7      480       4  891352093  4.050627\n",
       "10422        7      210       4  891352904  4.060145\n",
       "32677        7       64       5  891350756  4.147364\n",
       "6336         7      269       3  891349991  4.098292\n",
       "27649        7      100       5  891351082  4.196905\n",
       "3955         9      691       5  886960055  4.252112\n",
       "29557        9      294       4  886959453  4.103512\n",
       "5545        10       22       5  877888812  4.316120\n",
       "15952       10      183       5  877893020  4.269489\n",
       "4183        10      124       5  877888545  4.246839\n",
       "7383        10      651       4  877888812  4.245972\n",
       "19465       10      144       4  877892110  4.241755\n",
       "53618       10      185       5  877888876  4.253397\n",
       "14324       10      269       4  877886162  4.290932\n",
       "30061       10      174       4  877886661  4.384775\n",
       "7852        12      191       5  879960801  4.446818\n",
       "90027       12       69       5  879958902  4.379511\n",
       "7699        12       15       5  879959670  4.378904\n",
       "49782       12       98       5  879959068  4.544234\n",
       "19337       12      318       5  879960826  4.522517\n",
       "8628        12      754       4  879958810  4.323311\n",
       "3311        14      357       2  890881294  4.163847\n",
       "19273       14      285       5  879119118  4.110472\n",
       "...        ...      ...     ...        ...       ...\n",
       "75373      932      183       4  891249877  4.009478\n",
       "70420      932      483       5  891249962  4.065215\n",
       "88376      932      100       5  891249586  4.138974\n",
       "91532      935      300       4  884471955  4.109567\n",
       "99907      935      117       4  884472229  4.107862\n",
       "96617      935      620       2  884472627  4.050791\n",
       "91185      935        9       1  884472352  4.141318\n",
       "92729      935      255       4  884472247  4.040541\n",
       "73371      936      181       4  886832596  4.005870\n",
       "86438      939      285       5  880261184  4.385744\n",
       "92342      939      257       5  880260805  4.339342\n",
       "90881      939      591       5  880260994  4.306358\n",
       "80434      939     1051       5  880262090  4.286559\n",
       "88997      939      283       5  880261291  4.314236\n",
       "85347      939      255       5  880261094  4.274258\n",
       "78091      939      818       3  880262057  4.285753\n",
       "69227      939      258       4  880260692  4.410398\n",
       "92090      941      300       4  875048495  4.118166\n",
       "80319      941      475       4  875049038  4.139858\n",
       "69939      941      124       5  875048996  4.146315\n",
       "83577      941      257       4  875048952  4.107352\n",
       "93680      941      919       5  875048887  4.087700\n",
       "74434      942      878       4  891282702  4.311478\n",
       "96209      942      124       4  891283068  4.416674\n",
       "73640      942      500       5  891282816  4.343678\n",
       "68192      942      487       4  891282985  4.356795\n",
       "67222      942      604       4  891283139  4.357055\n",
       "67031      942      117       4  891282816  4.398540\n",
       "74960      942      216       4  891282963  4.406725\n",
       "70447      942      511       4  891282931  4.418824\n",
       "\n",
       "[1467 rows x 5 columns]"
      ]
     },
     "execution_count": 15,
     "metadata": {},
     "output_type": "execute_result"
    }
   ],
   "source": [
    "REC.sort_values('user_id',ascending=True)"
   ]
  },
  {
   "cell_type": "markdown",
   "metadata": {},
   "source": [
    "## 7.Regardless Top movies, just calculating overal  metrics.\n",
    "\n",
    "#### This is precision:"
   ]
  },
  {
   "cell_type": "code",
   "execution_count": 16,
   "metadata": {},
   "outputs": [
    {
     "data": {
      "text/plain": [
       "0.7999316005471956"
      ]
     },
     "execution_count": 16,
     "metadata": {},
     "output_type": "execute_result"
    }
   ],
   "source": [
    "pred_true=df.iloc[np.where(df['pred']>=4)[0],:]\n",
    "len(np.where(pred_true['rating']>=4)[0])*1.0/pred_true.shape[0]"
   ]
  },
  {
   "cell_type": "markdown",
   "metadata": {},
   "source": [
    "#### This is recall:"
   ]
  },
  {
   "cell_type": "code",
   "execution_count": 17,
   "metadata": {},
   "outputs": [
    {
     "data": {
      "text/plain": [
       "0.26715395157606214"
      ]
     },
     "execution_count": 17,
     "metadata": {},
     "output_type": "execute_result"
    }
   ],
   "source": [
    "h=df.iloc[np.where(df['pred']!=0)[0],:]\n",
    "len(np.where(h['pred']>=4)[0])*1.0/len(np.where(h['rating']>=4)[0])"
   ]
  },
  {
   "cell_type": "markdown",
   "metadata": {},
   "source": [
    "## 8.For better performance, tring to run model only based on users who rated at least n movies."
   ]
  },
  {
   "cell_type": "code",
   "execution_count": 18,
   "metadata": {
    "collapsed": true
   },
   "outputs": [],
   "source": [
    "df_by_user_id=df.groupby('user_id').size()\n",
    "hot=df_by_user_id.sort_values(ascending=False)"
   ]
  },
  {
   "cell_type": "code",
   "execution_count": 25,
   "metadata": {
    "collapsed": true
   },
   "outputs": [],
   "source": [
    "def precision_least(i):\n",
    "    dfplus=df_by_user_id.iloc[np.where(df_by_user_id>=i)[0]]\n",
    "    df_least=df.iloc[np.where(df['user_id'].isin(dfplus.index))]    \n",
    "    pred_true=df_least.iloc[np.where(df_least['pred']>=4)[0],:]\n",
    "    return len(np.where(j['rating']>=4)[0])*1.0/pred_true.shape[0]"
   ]
  },
  {
   "cell_type": "code",
   "execution_count": 26,
   "metadata": {},
   "outputs": [
    {
     "data": {
      "text/plain": [
       "[0.7999316005471956,\n",
       " 0.8362531283518055,\n",
       " 0.8596104373392135,\n",
       " 0.887329286798179,\n",
       " 0.9158183241973376,\n",
       " 0.9341054313099042,\n",
       " 0.9621554915672563,\n",
       " 1.0099309153713298,\n",
       " 1.0622161671207992,\n",
       " 1.0904428904428904,\n",
       " 1.1207474844274077,\n",
       " 1.1619473422752111,\n",
       " 1.2075374290139391,\n",
       " 1.2246073298429319,\n",
       " 1.2481323372465314,\n",
       " 1.269815418023887,\n",
       " 1.3045175683212493]"
      ]
     },
     "execution_count": 26,
     "metadata": {},
     "output_type": "execute_result"
    }
   ],
   "source": [
    "x=range(20,105,5)\n",
    "map(precision_least,x)"
   ]
  },
  {
   "cell_type": "markdown",
   "metadata": {},
   "source": [
    "## 9.For better performance, tring to recommend only top N movies to users."
   ]
  },
  {
   "cell_type": "code",
   "execution_count": 22,
   "metadata": {
    "collapsed": true
   },
   "outputs": [],
   "source": [
    "def precision_hot(i):\n",
    "    REC=df3.sort_values('pred',ascending=False).groupby('user_id').head(i)\n",
    "    return (REC.sort_values('user_id')['rating']>=4).sum()*1.0/len(REC.index)"
   ]
  },
  {
   "cell_type": "code",
   "execution_count": 23,
   "metadata": {},
   "outputs": [
    {
     "data": {
      "text/plain": [
       "[0.87142857142857144,\n",
       " 0.861328125,\n",
       " 0.8635724331926864,\n",
       " 0.85365853658536583,\n",
       " 0.85004686035613874,\n",
       " 0.84305669679539852,\n",
       " 0.84370370370370373,\n",
       " 0.83844580777096112,\n",
       " 0.83661792752701847,\n",
       " 0.83263347330533888,\n",
       " 0.83190883190883191,\n",
       " 0.8316993464052288,\n",
       " 0.82854155776267646,\n",
       " 0.82661290322580649,\n",
       " 0.82787286063569687]"
      ]
     },
     "execution_count": 23,
     "metadata": {},
     "output_type": "execute_result"
    }
   ],
   "source": [
    "x=range(1,16)\n",
    "map(precision_hot,x)"
   ]
  },
  {
   "cell_type": "code",
   "execution_count": null,
   "metadata": {
    "collapsed": true
   },
   "outputs": [],
   "source": []
  }
 ],
 "metadata": {
  "kernelspec": {
   "display_name": "Python 2",
   "language": "python",
   "name": "python2"
  },
  "language_info": {
   "codemirror_mode": {
    "name": "ipython",
    "version": 2
   },
   "file_extension": ".py",
   "mimetype": "text/x-python",
   "name": "python",
   "nbconvert_exporter": "python",
   "pygments_lexer": "ipython2",
   "version": "2.7.14"
  }
 },
 "nbformat": 4,
 "nbformat_minor": 2
}
