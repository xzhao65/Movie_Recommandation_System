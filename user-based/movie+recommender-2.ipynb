{
 "cells": [
  {
   "cell_type": "code",
   "execution_count": 19,
   "metadata": {
    "collapsed": true
   },
   "outputs": [],
   "source": [
    "import numpy as np\n",
    "import pandas as pd\n",
    "from sklearn.metrics.pairwise import pairwise_distances\n",
    "from sklearn.metrics import mean_squared_error\n",
    "from math import sqrt\n",
    "import scipy.sparse as sp\n",
    "from scipy.sparse.linalg import svds\n"
   ]
  },
  {
   "cell_type": "code",
   "execution_count": 20,
   "metadata": {
    "collapsed": true
   },
   "outputs": [],
   "source": [
    "header = ['user_id', 'item_id', 'rating', 'timestamp']\n",
    "df = pd.read_csv('/Users/zhaoxiangyu/Desktop/ml-100k/u.data', sep='\\t', names=header)"
   ]
  },
  {
   "cell_type": "code",
   "execution_count": 21,
   "metadata": {},
   "outputs": [
    {
     "name": "stdout",
     "output_type": "stream",
     "text": [
      "Number of users = 943 | Number of movies = 1682\n"
     ]
    }
   ],
   "source": [
    "n_users = df.user_id.unique().shape[0]\n",
    "n_items = df.item_id.unique().shape[0]\n",
    "print 'Number of users = ' + str(n_users) + ' | Number of movies = ' + str(n_items)"
   ]
  },
  {
   "cell_type": "code",
   "execution_count": 22,
   "metadata": {
    "collapsed": true
   },
   "outputs": [],
   "source": [
    "from sklearn import cross_validation as cv\n",
    "train_data, test_data = cv.train_test_split(df, test_size=0.20)"
   ]
  },
  {
   "cell_type": "code",
   "execution_count": 23,
   "metadata": {
    "collapsed": true
   },
   "outputs": [],
   "source": [
    "train_data_matrix = np.zeros((n_users, n_items))\n",
    "for line in train_data.itertuples():\n",
    "    train_data_matrix[line[1]-1, line[2]-1] = line[3]\n",
    "\n",
    "test_data_matrix = np.zeros((n_users, n_items))\n",
    "for line in test_data.itertuples():\n",
    "    test_data_matrix[line[1]-1, line[2]-1] = line[3]"
   ]
  },
  {
   "cell_type": "code",
   "execution_count": 24,
   "metadata": {
    "collapsed": true
   },
   "outputs": [],
   "source": [
    "user_similarity = pairwise_distances(train_data_matrix, metric='cosine')"
   ]
  },
  {
   "cell_type": "code",
   "execution_count": 25,
   "metadata": {
    "collapsed": true
   },
   "outputs": [],
   "source": [
    "def non_zero_mean(x):\n",
    "    return x[x != 0].mean()\n",
    "def predict(ratings, similarity, type):\n",
    "    if type == 'user':\n",
    "        mean_user_rating = np.apply_along_axis(non_zero_mean, axis = 1, arr = ratings)\n",
    "        ratings_diff = (ratings - mean_user_rating[:, np.newaxis])\n",
    "        ratings_diff = np.where(ratings_diff==-mean_user_rating[:, np.newaxis],0,ratings_diff)\n",
    "        pred = mean_user_rating[:, np.newaxis] + similarity.dot(ratings_diff) / np.array([np.abs(similarity).sum(axis=1)]).T\n",
    "    elif type == 'item':\n",
    "        pred = ratings.dot(similarity) / np.array([np.abs(similarity).sum(axis=1)])\n",
    "    return pred"
   ]
  },
  {
   "cell_type": "code",
   "execution_count": 26,
   "metadata": {
    "collapsed": true
   },
   "outputs": [],
   "source": [
    "pred=predict(train_data_matrix, user_similarity, type='user')"
   ]
  },
  {
   "cell_type": "code",
   "execution_count": 27,
   "metadata": {},
   "outputs": [
    {
     "data": {
      "text/plain": [
       "array([[ 3.67053431,  3.54626467,  3.54573797, ...,  3.57195606,\n",
       "         3.5733945 ,  3.57313471],\n",
       "       [ 3.86732611,  3.71998066,  3.72370568, ...,  3.75341929,\n",
       "         3.75438596,  3.75394061],\n",
       "       [ 3.01880955,  2.87011565,  2.87029601, ...,  2.90383988,\n",
       "         2.9047619 ,  2.90431627],\n",
       "       ..., \n",
       "       [ 4.04574625,  3.90406357,  3.90414498, ...,  3.93625784,\n",
       "         3.9375    ,  3.93706033],\n",
       "       [ 4.3450027 ,  4.2073763 ,  4.20663321, ...,  4.23763089,\n",
       "         4.23880597,  4.23839857],\n",
       "       [ 3.53976858,  3.41495011,  3.41366808, ...,  3.44140999,\n",
       "         3.44285714,  3.44255128]])"
      ]
     },
     "execution_count": 27,
     "metadata": {},
     "output_type": "execute_result"
    }
   ],
   "source": [
    "pred"
   ]
  },
  {
   "cell_type": "code",
   "execution_count": 28,
   "metadata": {},
   "outputs": [
    {
     "data": {
      "text/plain": [
       "array([[ 0.        ,  0.        ,  0.        , ...,  3.57195606,\n",
       "         3.5733945 ,  3.57313471],\n",
       "       [ 0.        ,  3.71998066,  3.72370568, ...,  3.75341929,\n",
       "         3.75438596,  3.75394061],\n",
       "       [ 3.01880955,  2.87011565,  2.87029601, ...,  2.90383988,\n",
       "         2.9047619 ,  2.90431627],\n",
       "       ..., \n",
       "       [ 4.04574625,  3.90406357,  3.90414498, ...,  3.93625784,\n",
       "         3.9375    ,  3.93706033],\n",
       "       [ 4.3450027 ,  4.2073763 ,  4.20663321, ...,  4.23763089,\n",
       "         4.23880597,  4.23839857],\n",
       "       [ 3.53976858,  3.41495011,  3.41366808, ...,  3.44140999,\n",
       "         3.44285714,  3.44255128]])"
      ]
     },
     "execution_count": 28,
     "metadata": {},
     "output_type": "execute_result"
    }
   ],
   "source": [
    "test=np.where(train_data_matrix != 0, 0, pred)\n",
    "test"
   ]
  },
  {
   "cell_type": "code",
   "execution_count": 29,
   "metadata": {
    "collapsed": true
   },
   "outputs": [],
   "source": [
    "df2=pd.DataFrame(test)"
   ]
  },
  {
   "cell_type": "code",
   "execution_count": null,
   "metadata": {
    "collapsed": true
   },
   "outputs": [],
   "source": []
  },
  {
   "cell_type": "code",
   "execution_count": 30,
   "metadata": {
    "collapsed": true
   },
   "outputs": [],
   "source": [
    "def add_pred(x):\n",
    "    return df2.iloc[int(x[0]-1),int(x[1]-1)]\n",
    "pred_col = df.apply(add_pred, axis = 1)"
   ]
  },
  {
   "cell_type": "code",
   "execution_count": 31,
   "metadata": {
    "collapsed": true
   },
   "outputs": [],
   "source": [
    "#for index in df.index.values:\n",
    "#    df.iloc[index, 4]=df2.iloc[df.iloc[index, 0]-1,df.iloc[index, 1]-1]"
   ]
  },
  {
   "cell_type": "code",
   "execution_count": 32,
   "metadata": {
    "collapsed": true
   },
   "outputs": [],
   "source": [
    "df[\"pred\"] = pred_col"
   ]
  },
  {
   "cell_type": "code",
   "execution_count": 33,
   "metadata": {
    "collapsed": true
   },
   "outputs": [],
   "source": [
    "df3=df[df['pred']!=0]"
   ]
  },
  {
   "cell_type": "code",
   "execution_count": 34,
   "metadata": {
    "collapsed": true
   },
   "outputs": [],
   "source": [
    "REC=df3.sort_values('pred',ascending=False).groupby('user_id').head(5)"
   ]
  },
  {
   "cell_type": "code",
   "execution_count": 35,
   "metadata": {},
   "outputs": [
    {
     "data": {
      "text/plain": [
       "4079"
      ]
     },
     "execution_count": 35,
     "metadata": {},
     "output_type": "execute_result"
    }
   ],
   "source": [
    "(REC.sort_values('user_id')['rating']>=3).sum()"
   ]
  },
  {
   "cell_type": "code",
   "execution_count": null,
   "metadata": {
    "collapsed": true
   },
   "outputs": [],
   "source": []
  },
  {
   "cell_type": "code",
   "execution_count": null,
   "metadata": {
    "collapsed": true
   },
   "outputs": [],
   "source": []
  },
  {
   "cell_type": "code",
   "execution_count": null,
   "metadata": {
    "collapsed": true
   },
   "outputs": [],
   "source": []
  },
  {
   "cell_type": "code",
   "execution_count": 36,
   "metadata": {},
   "outputs": [
    {
     "data": {
      "text/plain": [
       "0.90123729562527621"
      ]
     },
     "execution_count": 36,
     "metadata": {},
     "output_type": "execute_result"
    }
   ],
   "source": [
    "(REC.sort_values('user_id')['rating']>=3).sum()*1.0/len(REC.index)"
   ]
  },
  {
   "cell_type": "code",
   "execution_count": 37,
   "metadata": {},
   "outputs": [
    {
     "data": {
      "text/plain": [
       "0.70547945205479456"
      ]
     },
     "execution_count": 37,
     "metadata": {},
     "output_type": "execute_result"
    }
   ],
   "source": [
    "(REC.sort_values('user_id')['rating']>=4).sum()*1.0/len(REC.index)"
   ]
  },
  {
   "cell_type": "code",
   "execution_count": null,
   "metadata": {
    "collapsed": true
   },
   "outputs": [],
   "source": []
  },
  {
   "cell_type": "code",
   "execution_count": 38,
   "metadata": {},
   "outputs": [
    {
     "data": {
      "text/html": [
       "<div>\n",
       "<style>\n",
       "    .dataframe thead tr:only-child th {\n",
       "        text-align: right;\n",
       "    }\n",
       "\n",
       "    .dataframe thead th {\n",
       "        text-align: left;\n",
       "    }\n",
       "\n",
       "    .dataframe tbody tr th {\n",
       "        vertical-align: top;\n",
       "    }\n",
       "</style>\n",
       "<table border=\"1\" class=\"dataframe\">\n",
       "  <thead>\n",
       "    <tr style=\"text-align: right;\">\n",
       "      <th></th>\n",
       "      <th>user_id</th>\n",
       "      <th>item_id</th>\n",
       "      <th>rating</th>\n",
       "      <th>timestamp</th>\n",
       "      <th>pred</th>\n",
       "    </tr>\n",
       "  </thead>\n",
       "  <tbody>\n",
       "    <tr>\n",
       "      <th>59972</th>\n",
       "      <td>1</td>\n",
       "      <td>168</td>\n",
       "      <td>5</td>\n",
       "      <td>874965478</td>\n",
       "      <td>3.671143</td>\n",
       "    </tr>\n",
       "    <tr>\n",
       "      <th>34026</th>\n",
       "      <td>1</td>\n",
       "      <td>173</td>\n",
       "      <td>5</td>\n",
       "      <td>878541803</td>\n",
       "      <td>3.689796</td>\n",
       "    </tr>\n",
       "    <tr>\n",
       "      <th>6541</th>\n",
       "      <td>1</td>\n",
       "      <td>258</td>\n",
       "      <td>5</td>\n",
       "      <td>878873389</td>\n",
       "      <td>3.691530</td>\n",
       "    </tr>\n",
       "    <tr>\n",
       "      <th>5909</th>\n",
       "      <td>1</td>\n",
       "      <td>185</td>\n",
       "      <td>4</td>\n",
       "      <td>875072631</td>\n",
       "      <td>3.651584</td>\n",
       "    </tr>\n",
       "    <tr>\n",
       "      <th>3358</th>\n",
       "      <td>1</td>\n",
       "      <td>98</td>\n",
       "      <td>4</td>\n",
       "      <td>875072404</td>\n",
       "      <td>3.759429</td>\n",
       "    </tr>\n",
       "    <tr>\n",
       "      <th>35337</th>\n",
       "      <td>2</td>\n",
       "      <td>294</td>\n",
       "      <td>1</td>\n",
       "      <td>888551648</td>\n",
       "      <td>3.621709</td>\n",
       "    </tr>\n",
       "    <tr>\n",
       "      <th>55790</th>\n",
       "      <td>2</td>\n",
       "      <td>100</td>\n",
       "      <td>5</td>\n",
       "      <td>888552084</td>\n",
       "      <td>3.981505</td>\n",
       "    </tr>\n",
       "    <tr>\n",
       "      <th>39562</th>\n",
       "      <td>2</td>\n",
       "      <td>10</td>\n",
       "      <td>2</td>\n",
       "      <td>888551853</td>\n",
       "      <td>3.770535</td>\n",
       "    </tr>\n",
       "    <tr>\n",
       "      <th>43627</th>\n",
       "      <td>2</td>\n",
       "      <td>255</td>\n",
       "      <td>4</td>\n",
       "      <td>888551341</td>\n",
       "      <td>3.730987</td>\n",
       "    </tr>\n",
       "    <tr>\n",
       "      <th>73282</th>\n",
       "      <td>2</td>\n",
       "      <td>304</td>\n",
       "      <td>4</td>\n",
       "      <td>888979197</td>\n",
       "      <td>3.757458</td>\n",
       "    </tr>\n",
       "    <tr>\n",
       "      <th>1682</th>\n",
       "      <td>3</td>\n",
       "      <td>337</td>\n",
       "      <td>1</td>\n",
       "      <td>889236983</td>\n",
       "      <td>2.906767</td>\n",
       "    </tr>\n",
       "    <tr>\n",
       "      <th>85726</th>\n",
       "      <td>3</td>\n",
       "      <td>353</td>\n",
       "      <td>1</td>\n",
       "      <td>889237122</td>\n",
       "      <td>2.893402</td>\n",
       "    </tr>\n",
       "    <tr>\n",
       "      <th>37734</th>\n",
       "      <td>3</td>\n",
       "      <td>302</td>\n",
       "      <td>2</td>\n",
       "      <td>889236939</td>\n",
       "      <td>3.053875</td>\n",
       "    </tr>\n",
       "    <tr>\n",
       "      <th>18651</th>\n",
       "      <td>3</td>\n",
       "      <td>349</td>\n",
       "      <td>3</td>\n",
       "      <td>889237269</td>\n",
       "      <td>2.895144</td>\n",
       "    </tr>\n",
       "    <tr>\n",
       "      <th>65959</th>\n",
       "      <td>3</td>\n",
       "      <td>347</td>\n",
       "      <td>5</td>\n",
       "      <td>889237455</td>\n",
       "      <td>2.897253</td>\n",
       "    </tr>\n",
       "    <tr>\n",
       "      <th>88891</th>\n",
       "      <td>4</td>\n",
       "      <td>301</td>\n",
       "      <td>5</td>\n",
       "      <td>892002353</td>\n",
       "      <td>4.342187</td>\n",
       "    </tr>\n",
       "    <tr>\n",
       "      <th>20082</th>\n",
       "      <td>4</td>\n",
       "      <td>271</td>\n",
       "      <td>4</td>\n",
       "      <td>892001690</td>\n",
       "      <td>4.341335</td>\n",
       "    </tr>\n",
       "    <tr>\n",
       "      <th>1250</th>\n",
       "      <td>4</td>\n",
       "      <td>264</td>\n",
       "      <td>3</td>\n",
       "      <td>892004275</td>\n",
       "      <td>4.325265</td>\n",
       "    </tr>\n",
       "    <tr>\n",
       "      <th>28363</th>\n",
       "      <td>5</td>\n",
       "      <td>168</td>\n",
       "      <td>3</td>\n",
       "      <td>875636691</td>\n",
       "      <td>3.003655</td>\n",
       "    </tr>\n",
       "    <tr>\n",
       "      <th>86657</th>\n",
       "      <td>5</td>\n",
       "      <td>210</td>\n",
       "      <td>3</td>\n",
       "      <td>875636099</td>\n",
       "      <td>2.978574</td>\n",
       "    </tr>\n",
       "    <tr>\n",
       "      <th>29030</th>\n",
       "      <td>5</td>\n",
       "      <td>408</td>\n",
       "      <td>5</td>\n",
       "      <td>878844495</td>\n",
       "      <td>2.977638</td>\n",
       "    </tr>\n",
       "    <tr>\n",
       "      <th>26872</th>\n",
       "      <td>5</td>\n",
       "      <td>208</td>\n",
       "      <td>4</td>\n",
       "      <td>875636675</td>\n",
       "      <td>2.948302</td>\n",
       "    </tr>\n",
       "    <tr>\n",
       "      <th>23878</th>\n",
       "      <td>5</td>\n",
       "      <td>257</td>\n",
       "      <td>5</td>\n",
       "      <td>875635239</td>\n",
       "      <td>2.944606</td>\n",
       "    </tr>\n",
       "    <tr>\n",
       "      <th>23456</th>\n",
       "      <td>6</td>\n",
       "      <td>50</td>\n",
       "      <td>4</td>\n",
       "      <td>883600842</td>\n",
       "      <td>4.006158</td>\n",
       "    </tr>\n",
       "    <tr>\n",
       "      <th>46507</th>\n",
       "      <td>6</td>\n",
       "      <td>173</td>\n",
       "      <td>5</td>\n",
       "      <td>883602462</td>\n",
       "      <td>3.776232</td>\n",
       "    </tr>\n",
       "    <tr>\n",
       "      <th>1967</th>\n",
       "      <td>6</td>\n",
       "      <td>357</td>\n",
       "      <td>4</td>\n",
       "      <td>883602422</td>\n",
       "      <td>3.773047</td>\n",
       "    </tr>\n",
       "    <tr>\n",
       "      <th>45407</th>\n",
       "      <td>6</td>\n",
       "      <td>79</td>\n",
       "      <td>3</td>\n",
       "      <td>883600747</td>\n",
       "      <td>3.769786</td>\n",
       "    </tr>\n",
       "    <tr>\n",
       "      <th>40412</th>\n",
       "      <td>6</td>\n",
       "      <td>302</td>\n",
       "      <td>4</td>\n",
       "      <td>883268222</td>\n",
       "      <td>3.812710</td>\n",
       "    </tr>\n",
       "    <tr>\n",
       "      <th>29893</th>\n",
       "      <td>7</td>\n",
       "      <td>258</td>\n",
       "      <td>4</td>\n",
       "      <td>892135277</td>\n",
       "      <td>4.129704</td>\n",
       "    </tr>\n",
       "    <tr>\n",
       "      <th>32677</th>\n",
       "      <td>7</td>\n",
       "      <td>64</td>\n",
       "      <td>5</td>\n",
       "      <td>891350756</td>\n",
       "      <td>4.173181</td>\n",
       "    </tr>\n",
       "    <tr>\n",
       "      <th>...</th>\n",
       "      <td>...</td>\n",
       "      <td>...</td>\n",
       "      <td>...</td>\n",
       "      <td>...</td>\n",
       "      <td>...</td>\n",
       "    </tr>\n",
       "    <tr>\n",
       "      <th>88513</th>\n",
       "      <td>938</td>\n",
       "      <td>222</td>\n",
       "      <td>5</td>\n",
       "      <td>891356479</td>\n",
       "      <td>3.293413</td>\n",
       "    </tr>\n",
       "    <tr>\n",
       "      <th>71830</th>\n",
       "      <td>938</td>\n",
       "      <td>9</td>\n",
       "      <td>3</td>\n",
       "      <td>891356413</td>\n",
       "      <td>3.363749</td>\n",
       "    </tr>\n",
       "    <tr>\n",
       "      <th>81506</th>\n",
       "      <td>938</td>\n",
       "      <td>111</td>\n",
       "      <td>5</td>\n",
       "      <td>891356742</td>\n",
       "      <td>3.268952</td>\n",
       "    </tr>\n",
       "    <tr>\n",
       "      <th>71369</th>\n",
       "      <td>938</td>\n",
       "      <td>333</td>\n",
       "      <td>4</td>\n",
       "      <td>891356146</td>\n",
       "      <td>3.292959</td>\n",
       "    </tr>\n",
       "    <tr>\n",
       "      <th>99610</th>\n",
       "      <td>938</td>\n",
       "      <td>293</td>\n",
       "      <td>3</td>\n",
       "      <td>891356501</td>\n",
       "      <td>3.308365</td>\n",
       "    </tr>\n",
       "    <tr>\n",
       "      <th>92342</th>\n",
       "      <td>939</td>\n",
       "      <td>257</td>\n",
       "      <td>5</td>\n",
       "      <td>880260805</td>\n",
       "      <td>4.297225</td>\n",
       "    </tr>\n",
       "    <tr>\n",
       "      <th>78091</th>\n",
       "      <td>939</td>\n",
       "      <td>818</td>\n",
       "      <td>3</td>\n",
       "      <td>880262057</td>\n",
       "      <td>4.246888</td>\n",
       "    </tr>\n",
       "    <tr>\n",
       "      <th>90233</th>\n",
       "      <td>939</td>\n",
       "      <td>9</td>\n",
       "      <td>5</td>\n",
       "      <td>880260745</td>\n",
       "      <td>4.342345</td>\n",
       "    </tr>\n",
       "    <tr>\n",
       "      <th>84999</th>\n",
       "      <td>939</td>\n",
       "      <td>742</td>\n",
       "      <td>5</td>\n",
       "      <td>880260915</td>\n",
       "      <td>4.279669</td>\n",
       "    </tr>\n",
       "    <tr>\n",
       "      <th>83954</th>\n",
       "      <td>939</td>\n",
       "      <td>298</td>\n",
       "      <td>5</td>\n",
       "      <td>880261184</td>\n",
       "      <td>4.292295</td>\n",
       "    </tr>\n",
       "    <tr>\n",
       "      <th>91042</th>\n",
       "      <td>940</td>\n",
       "      <td>258</td>\n",
       "      <td>5</td>\n",
       "      <td>884801316</td>\n",
       "      <td>3.517808</td>\n",
       "    </tr>\n",
       "    <tr>\n",
       "      <th>87893</th>\n",
       "      <td>940</td>\n",
       "      <td>98</td>\n",
       "      <td>4</td>\n",
       "      <td>885921421</td>\n",
       "      <td>3.605954</td>\n",
       "    </tr>\n",
       "    <tr>\n",
       "      <th>68631</th>\n",
       "      <td>940</td>\n",
       "      <td>96</td>\n",
       "      <td>5</td>\n",
       "      <td>885921265</td>\n",
       "      <td>3.507334</td>\n",
       "    </tr>\n",
       "    <tr>\n",
       "      <th>74923</th>\n",
       "      <td>940</td>\n",
       "      <td>89</td>\n",
       "      <td>4</td>\n",
       "      <td>885921828</td>\n",
       "      <td>3.521523</td>\n",
       "    </tr>\n",
       "    <tr>\n",
       "      <th>67056</th>\n",
       "      <td>940</td>\n",
       "      <td>272</td>\n",
       "      <td>4</td>\n",
       "      <td>884801316</td>\n",
       "      <td>3.525673</td>\n",
       "    </tr>\n",
       "    <tr>\n",
       "      <th>90792</th>\n",
       "      <td>941</td>\n",
       "      <td>298</td>\n",
       "      <td>5</td>\n",
       "      <td>875048887</td>\n",
       "      <td>3.973752</td>\n",
       "    </tr>\n",
       "    <tr>\n",
       "      <th>71352</th>\n",
       "      <td>941</td>\n",
       "      <td>117</td>\n",
       "      <td>5</td>\n",
       "      <td>875048886</td>\n",
       "      <td>3.979846</td>\n",
       "    </tr>\n",
       "    <tr>\n",
       "      <th>75366</th>\n",
       "      <td>941</td>\n",
       "      <td>7</td>\n",
       "      <td>4</td>\n",
       "      <td>875048952</td>\n",
       "      <td>4.008360</td>\n",
       "    </tr>\n",
       "    <tr>\n",
       "      <th>80319</th>\n",
       "      <td>941</td>\n",
       "      <td>475</td>\n",
       "      <td>4</td>\n",
       "      <td>875049038</td>\n",
       "      <td>4.010347</td>\n",
       "    </tr>\n",
       "    <tr>\n",
       "      <th>98516</th>\n",
       "      <td>941</td>\n",
       "      <td>1</td>\n",
       "      <td>5</td>\n",
       "      <td>875049144</td>\n",
       "      <td>4.045746</td>\n",
       "    </tr>\n",
       "    <tr>\n",
       "      <th>94611</th>\n",
       "      <td>942</td>\n",
       "      <td>435</td>\n",
       "      <td>5</td>\n",
       "      <td>891282931</td>\n",
       "      <td>4.293613</td>\n",
       "    </tr>\n",
       "    <tr>\n",
       "      <th>86290</th>\n",
       "      <td>942</td>\n",
       "      <td>484</td>\n",
       "      <td>5</td>\n",
       "      <td>891282963</td>\n",
       "      <td>4.293650</td>\n",
       "    </tr>\n",
       "    <tr>\n",
       "      <th>70447</th>\n",
       "      <td>942</td>\n",
       "      <td>511</td>\n",
       "      <td>4</td>\n",
       "      <td>891282931</td>\n",
       "      <td>4.315691</td>\n",
       "    </tr>\n",
       "    <tr>\n",
       "      <th>90047</th>\n",
       "      <td>942</td>\n",
       "      <td>705</td>\n",
       "      <td>4</td>\n",
       "      <td>891283095</td>\n",
       "      <td>4.274570</td>\n",
       "    </tr>\n",
       "    <tr>\n",
       "      <th>68108</th>\n",
       "      <td>942</td>\n",
       "      <td>427</td>\n",
       "      <td>5</td>\n",
       "      <td>891283017</td>\n",
       "      <td>4.342749</td>\n",
       "    </tr>\n",
       "    <tr>\n",
       "      <th>91861</th>\n",
       "      <td>943</td>\n",
       "      <td>56</td>\n",
       "      <td>5</td>\n",
       "      <td>888639269</td>\n",
       "      <td>3.568029</td>\n",
       "    </tr>\n",
       "    <tr>\n",
       "      <th>73174</th>\n",
       "      <td>943</td>\n",
       "      <td>181</td>\n",
       "      <td>4</td>\n",
       "      <td>875409978</td>\n",
       "      <td>3.617738</td>\n",
       "    </tr>\n",
       "    <tr>\n",
       "      <th>84323</th>\n",
       "      <td>943</td>\n",
       "      <td>64</td>\n",
       "      <td>5</td>\n",
       "      <td>875409939</td>\n",
       "      <td>3.606211</td>\n",
       "    </tr>\n",
       "    <tr>\n",
       "      <th>84061</th>\n",
       "      <td>943</td>\n",
       "      <td>318</td>\n",
       "      <td>3</td>\n",
       "      <td>888639093</td>\n",
       "      <td>3.621119</td>\n",
       "    </tr>\n",
       "    <tr>\n",
       "      <th>73593</th>\n",
       "      <td>943</td>\n",
       "      <td>655</td>\n",
       "      <td>4</td>\n",
       "      <td>888639269</td>\n",
       "      <td>3.487267</td>\n",
       "    </tr>\n",
       "  </tbody>\n",
       "</table>\n",
       "<p>4526 rows × 5 columns</p>\n",
       "</div>"
      ],
      "text/plain": [
       "       user_id  item_id  rating  timestamp      pred\n",
       "59972        1      168       5  874965478  3.671143\n",
       "34026        1      173       5  878541803  3.689796\n",
       "6541         1      258       5  878873389  3.691530\n",
       "5909         1      185       4  875072631  3.651584\n",
       "3358         1       98       4  875072404  3.759429\n",
       "35337        2      294       1  888551648  3.621709\n",
       "55790        2      100       5  888552084  3.981505\n",
       "39562        2       10       2  888551853  3.770535\n",
       "43627        2      255       4  888551341  3.730987\n",
       "73282        2      304       4  888979197  3.757458\n",
       "1682         3      337       1  889236983  2.906767\n",
       "85726        3      353       1  889237122  2.893402\n",
       "37734        3      302       2  889236939  3.053875\n",
       "18651        3      349       3  889237269  2.895144\n",
       "65959        3      347       5  889237455  2.897253\n",
       "88891        4      301       5  892002353  4.342187\n",
       "20082        4      271       4  892001690  4.341335\n",
       "1250         4      264       3  892004275  4.325265\n",
       "28363        5      168       3  875636691  3.003655\n",
       "86657        5      210       3  875636099  2.978574\n",
       "29030        5      408       5  878844495  2.977638\n",
       "26872        5      208       4  875636675  2.948302\n",
       "23878        5      257       5  875635239  2.944606\n",
       "23456        6       50       4  883600842  4.006158\n",
       "46507        6      173       5  883602462  3.776232\n",
       "1967         6      357       4  883602422  3.773047\n",
       "45407        6       79       3  883600747  3.769786\n",
       "40412        6      302       4  883268222  3.812710\n",
       "29893        7      258       4  892135277  4.129704\n",
       "32677        7       64       5  891350756  4.173181\n",
       "...        ...      ...     ...        ...       ...\n",
       "88513      938      222       5  891356479  3.293413\n",
       "71830      938        9       3  891356413  3.363749\n",
       "81506      938      111       5  891356742  3.268952\n",
       "71369      938      333       4  891356146  3.292959\n",
       "99610      938      293       3  891356501  3.308365\n",
       "92342      939      257       5  880260805  4.297225\n",
       "78091      939      818       3  880262057  4.246888\n",
       "90233      939        9       5  880260745  4.342345\n",
       "84999      939      742       5  880260915  4.279669\n",
       "83954      939      298       5  880261184  4.292295\n",
       "91042      940      258       5  884801316  3.517808\n",
       "87893      940       98       4  885921421  3.605954\n",
       "68631      940       96       5  885921265  3.507334\n",
       "74923      940       89       4  885921828  3.521523\n",
       "67056      940      272       4  884801316  3.525673\n",
       "90792      941      298       5  875048887  3.973752\n",
       "71352      941      117       5  875048886  3.979846\n",
       "75366      941        7       4  875048952  4.008360\n",
       "80319      941      475       4  875049038  4.010347\n",
       "98516      941        1       5  875049144  4.045746\n",
       "94611      942      435       5  891282931  4.293613\n",
       "86290      942      484       5  891282963  4.293650\n",
       "70447      942      511       4  891282931  4.315691\n",
       "90047      942      705       4  891283095  4.274570\n",
       "68108      942      427       5  891283017  4.342749\n",
       "91861      943       56       5  888639269  3.568029\n",
       "73174      943      181       4  875409978  3.617738\n",
       "84323      943       64       5  875409939  3.606211\n",
       "84061      943      318       3  888639093  3.621119\n",
       "73593      943      655       4  888639269  3.487267\n",
       "\n",
       "[4526 rows x 5 columns]"
      ]
     },
     "execution_count": 38,
     "metadata": {},
     "output_type": "execute_result"
    }
   ],
   "source": [
    "REC.sort_values('user_id',ascending=True)"
   ]
  },
  {
   "cell_type": "code",
   "execution_count": 39,
   "metadata": {
    "collapsed": true
   },
   "outputs": [],
   "source": [
    "##df_by_user_id=df.groupby('user_id').size()"
   ]
  },
  {
   "cell_type": "code",
   "execution_count": 40,
   "metadata": {
    "collapsed": true
   },
   "outputs": [],
   "source": [
    "##hot=df_by_user_id.sort_values(ascending=False)"
   ]
  },
  {
   "cell_type": "code",
   "execution_count": 41,
   "metadata": {
    "collapsed": true
   },
   "outputs": [],
   "source": [
    "##np.where(df_by_user_id<50)[0]"
   ]
  },
  {
   "cell_type": "code",
   "execution_count": 42,
   "metadata": {
    "collapsed": true
   },
   "outputs": [],
   "source": [
    "k=df.iloc[np.where(df['pred']>=4)[0],:]"
   ]
  },
  {
   "cell_type": "code",
   "execution_count": 43,
   "metadata": {},
   "outputs": [
    {
     "data": {
      "text/plain": [
       "0.8049036777583187"
      ]
     },
     "execution_count": 43,
     "metadata": {},
     "output_type": "execute_result"
    }
   ],
   "source": [
    "len(np.where(k['rating']>=4)[0])*1.0/k.shape[0]"
   ]
  },
  {
   "cell_type": "code",
   "execution_count": null,
   "metadata": {
    "collapsed": true
   },
   "outputs": [],
   "source": []
  },
  {
   "cell_type": "code",
   "execution_count": null,
   "metadata": {},
   "outputs": [],
   "source": []
  },
  {
   "cell_type": "code",
   "execution_count": null,
   "metadata": {
    "collapsed": true
   },
   "outputs": [],
   "source": []
  }
 ],
 "metadata": {
  "kernelspec": {
   "display_name": "Python 2",
   "language": "python",
   "name": "python2"
  },
  "language_info": {
   "codemirror_mode": {
    "name": "ipython",
    "version": 2
   },
   "file_extension": ".py",
   "mimetype": "text/x-python",
   "name": "python",
   "nbconvert_exporter": "python",
   "pygments_lexer": "ipython2",
   "version": "2.7.14"
  }
 },
 "nbformat": 4,
 "nbformat_minor": 2
}
